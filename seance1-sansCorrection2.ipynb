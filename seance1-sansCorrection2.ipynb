{
 "cells": [
  {
   "cell_type": "markdown",
   "metadata": {},
   "source": [
    "![Elec. 2](titre.png)"
   ]
  },
  {
   "cell_type": "markdown",
   "metadata": {},
   "source": [
    " <div align=\"right\"><B>Virginie Dégardin</B></div> \n",
    " <div align=\"right\"><B>Thomas Dargent</B></div> "
   ]
  },
  {
   "cell_type": "markdown",
   "metadata": {},
   "source": [
    "# Objectifs des 2 séances de TD\n",
    "Ces 2 séances de TD ont pour objectif:\n",
    "- de vous familiariser avec l'interface Jupyter Notebook\n",
    "- de vous apprendre à utiliser le langage Markdown\n",
    "- de mettre en application les 2 premiers points tout en se remémorant les notions essentielles du langage Python nécessaires à ce cours.\n",
    "- __de vous préparer aux TP!!!__"
   ]
  },
  {
   "cell_type": "markdown",
   "metadata": {},
   "source": [
    "# <ins>PARTIE I - L'outils Jupyter Notebook</ins>\n",
    "\n",
    "Un Notebook Jupyter est une sorte de feuille de cours intéractive permettant d'effectuer à la fois de la programmation (en langage __Python__) ainsi que d'enrichir la présentation des différents programme (langage __Markdown__).  \n",
    "Même si il est possible d'installer Jupyter Notebook seul, nous utilisons le programme __Anaconda__ qui installe tous les éléments recquis au bon fonctionnement de Jupyter Notebook (notamment Python et les principales bibliothèques que nous utiliserons). Vous pourrez donc installer ce logiciel sur vos ordinateurs personnels. (Pour les personnes qui n'auraient pas d'ordinateur, une version en ligne est disponible.  \n",
    "Une version d'Anaconda open source est disponible gratuitement sur PC, Linux et Mac à l'adresse: [https://www.anaconda.com/products/individual](https://www.anaconda.com/products/individual)  \n",
    "\n",
    "\n",
    "\n",
    "\n"
   ]
  },
  {
   "cell_type": "markdown",
   "metadata": {},
   "source": [
    "# Lancement d'un Jupyter Notebook  \n",
    "\n",
    "Afin de créer un Notebook Jupyter, lancer Anaconda: ![Anaconda Navigator](logoAnaconda.PNG) puis cliquez sur Notebook (attention, ne cliquez pas sur JupyterLAb). ![notebook](logoNotebook.PNG) \n",
    "Le notebook va alors se lancer dans votre navigateur (firefox, chrome, safari, opera ou autre).   \n",
    "Vous vous retrouvez maintenant devant une arborescence de Dossier. __Choissisez judicieusement l'endroit où vous aller sauvegarder votre travail!__ File -> New Notebook -> Python3  \n",
    "Vous devez bien faire attention à l'endroit où votre Notebook (fichier `.ipynb`) sera enregistré car vous devrez le sauvegarder vers votre espace Nextcloud à chaque séance.  "
   ]
  },
  {
   "cell_type": "markdown",
   "metadata": {},
   "source": [
    "# Nextcloud"
   ]
  },
  {
   "cell_type": "markdown",
   "metadata": {},
   "source": [
    "Sur votre ENT ou directement à l'adresse [nextcloud.univ-lille.fr](http://nextcloud.univ-lille.fr), vous disposez de 50 Go.  \n",
    "N'hésitez pas à l'utiliser pour les séances de cette UE."
   ]
  },
  {
   "cell_type": "markdown",
   "metadata": {},
   "source": [
    "# Les Cellules\n",
    "Jupyter fonctionne par __cellules__. Une cellule est un endroit où l'on peut écrire du texte. Suivant la nature de la cellule, celle-ci sera interprétée différement.  \n",
    "Nous utiliserons 2 types de cellules:  \n",
    "- __Markdown__: utilisée pour la mise en page du notebook\n",
    "- __Code__: pour y executer du code python  \n",
    "\n",
    "Chaque cellule peut être executée.  \n",
    "Voyons ci-dessous les 2 types de cellules.  \n"
   ]
  },
  {
   "cell_type": "markdown",
   "metadata": {},
   "source": [
    "## _Ceci est une cellule de type Markdown._  \n",
    "Double-cliquez sur celle-ci pour voir le code   \n",
    "Executer cette cellule aura un effet uniquement sur son affichage.  \n",
    "Executez cette cellule en cliquant sur la cellule et en appuyant sur \"**Executer**\"."
   ]
  },
  {
   "cell_type": "code",
   "execution_count": null,
   "metadata": {},
   "outputs": [],
   "source": [
    "# CECI EST UNE CELLULE DE TYPE CODE\n",
    "# executer cette cellule produira une sortie en fonction du code Python demandé.\n",
    "# Rappel: les lignes précédées d'un # ne sont pas executées en python\n",
    "print(\"Le résultat de 3 + 3 vaut:\", 3+3)"
   ]
  },
  {
   "cell_type": "markdown",
   "metadata": {},
   "source": [
    "<div class=\"alert alert-block alert-warning\"><b>Travail à effectuer: </b>  \n",
    "Les cellules suivantes ne sont pas du bon type et leur execution génère des résultats inatendus. Corrigez-les avant de les executer de nouveau.</div>"
   ]
  },
  {
   "cell_type": "markdown",
   "metadata": {},
   "source": [
    "<div class=\"alert alert-block alert-info\"><b>Astuce: </b>  \n",
    "    \n",
    "Pour chaque cellule sélectionnée, on passe d'un type à l'autre en pressant la touche `ESC`, puis en appuyant sur `M`pour passer en __Markdown__ ou  `Y` pour passer en __code Python__.</div>"
   ]
  },
  {
   "cell_type": "code",
   "execution_count": null,
   "metadata": {},
   "outputs": [],
   "source": [
    "## Ceci devrait être affiché en gras! et on ne devrait pas voir les ##"
   ]
  },
  {
   "cell_type": "markdown",
   "metadata": {},
   "source": [
    "# Cette ligne ne devrait être qu'un commentaire, pas un grand titre en gras si c'était bien une cellule code!"
   ]
  },
  {
   "cell_type": "markdown",
   "metadata": {},
   "source": [
    "print(3+2) #Cette ligne ne devrait afficher que le résulat de l'addion de 3 et 5, pas autre chose!"
   ]
  },
  {
   "cell_type": "code",
   "execution_count": null,
   "metadata": {},
   "outputs": [],
   "source": [
    "### Cette cellule permet d'afficher du code Python dans une cellule MArkdown afin d'embellir son compte-rendu:\n",
    "Elle ne devrait pas génerer d'erreur\n",
    "```python\n",
    "    print(\"Hello World!\")\n",
    "    print(3+2)\n",
    "```"
   ]
  },
  {
   "cell_type": "markdown",
   "metadata": {},
   "source": [
    "# Markdown et Jupyter Notebook"
   ]
  },
  {
   "cell_type": "code",
   "execution_count": null,
   "metadata": {},
   "outputs": [],
   "source": []
  },
  {
   "cell_type": "markdown",
   "metadata": {},
   "source": [
    "<div class=\"alert alert-block alert-info\"><b>Pour aller plus loin: </b>Markdown est un langage de balisage léger permettant de créer du texte formaté à l'aide d'un éditeur de texte tel que notepad.\n",
    "Non seulement c'est un langage de plus en plus utilisé de nos jours, mais il est également très facile à apprendre. </div>"
   ]
  },
  {
   "cell_type": "markdown",
   "metadata": {},
   "source": [
    "(Double-cliquez sur cette cellule pour voir le code)   \n",
    "# Regardez bien la façon dont sont codées les lignes en Markdown avant d'excuter cette cellule:\n",
    "# Ceci est le titre Principal de mon TP. \n",
    "J'utilise le langage Markdown qui est un langage très simple qui permet de générer facilement des document de qualité. Notez bien l'unique `#` au tout début de la ligne. \n",
    "## Ceci est le sous titre\n",
    "### Ceci est le sous-sous titre\n",
    "Ce langage vous permet d'organiser votre compte rendu tout en restant dans votre interface de programmation.  \n",
    "1. c'est pratique  \n",
    "2. c'est un langage informatique qui se développe énormément et que l'on retrouve très fréquement\n",
    "\n",
    "\n",
    "- c'est rapide\n",
    "- très rapide\n",
    "- et ça permet d'ordonner son travail.  \n",
    "\n",
    "Pour voir d'autres commandes Markdown cliquez sur ce lien: [lien](https://docs.github.com/en/github/writing-on-github/basic-writing-and-formatting-syntax)\n",
    "\n",
    "Executer ce code et regarder la sortie, vous pouvez revenir dans cette cellule en double cliquant sur ce paragraphe.\n"
   ]
  },
  {
   "cell_type": "markdown",
   "metadata": {},
   "source": [
    "<div class=\"alert alert-block alert-warning\"><b>Travail à effecuter:</b>\n",
    "\n",
    "Générer une cellule Markdown permettant d'afficher \n",
    "- Un titre principal, \n",
    "- un sous-titre, \n",
    "- des listes.  \n",
    "Et pourquoi pas aller plus loin en mettant certains passage de texte en gras, en souligné, en barré,...</div>"
   ]
  },
  {
   "cell_type": "markdown",
   "metadata": {},
   "source": [
    "<div class=\"alert alert-block alert-info\"><b>Astuce:</b>\n",
    "    pour insérer une Cellule en dessous de la cellule sélectionnée -> <i>Insert-> Insert Cell Below</i></div>"
   ]
  },
  {
   "cell_type": "markdown",
   "metadata": {},
   "source": [
    "# <ins>PARTIE II - Python: quelques rappels</ins>"
   ]
  },
  {
   "cell_type": "markdown",
   "metadata": {},
   "source": [
    "<div class=\"alert alert-block alert-danger\"><b>Attention: </b>A ce stade du TD, vous devez être familiarisés avec l'interface Jupyter et le langage Markdown. Si ce n'est pas le cas, n'hésitez pas à revoir la partie I. Ce n'est pas la peine de vouloir gagner du temps en avançant coûte que coûte dans le TD, vous risquez d'en perdre énormément par la suite. </div>"
   ]
  },
  {
   "cell_type": "markdown",
   "metadata": {},
   "source": [
    "## Un peu de calcul"
   ]
  },
  {
   "cell_type": "markdown",
   "metadata": {},
   "source": [
    "Nous allons maintenant passer aux révisions du langage Python, principalement les notions qui seront utilisées en TD. "
   ]
  },
  {
   "cell_type": "code",
   "execution_count": null,
   "metadata": {},
   "outputs": [],
   "source": [
    "a = 2"
   ]
  },
  {
   "cell_type": "markdown",
   "metadata": {},
   "source": [
    "<div class=\"alert alert-block alert-warning\"><b>Question:</b> si vous n'executez pas la ligne précédente et si vous executez la ligne suivante, vous aurez une erreur. Pourquoi?</div>"
   ]
  },
  {
   "cell_type": "markdown",
   "metadata": {},
   "source": [
    "Réponse:  "
   ]
  },
  {
   "cell_type": "markdown",
   "metadata": {},
   "source": [
    "Exemple de calcul très simple: "
   ]
  },
  {
   "cell_type": "code",
   "execution_count": null,
   "metadata": {},
   "outputs": [],
   "source": [
    "a**2"
   ]
  },
  {
   "cell_type": "code",
   "execution_count": null,
   "metadata": {},
   "outputs": [],
   "source": [
    "a/3"
   ]
  },
  {
   "cell_type": "code",
   "execution_count": null,
   "metadata": {},
   "outputs": [],
   "source": [
    "a//3 #division qui élimine la partie fractionnaire"
   ]
  },
  {
   "cell_type": "code",
   "execution_count": null,
   "metadata": {},
   "outputs": [],
   "source": [
    "a%3 #reste de la division entiere"
   ]
  },
  {
   "cell_type": "markdown",
   "metadata": {},
   "source": [
    "<div class=\"alert alert-block alert-warning\"><b>Question : </b>Observez les 4 lignes suivantes: quelle est la différence fondamentale par rapport aux 4 lignes précédentes?</div>"
   ]
  },
  {
   "cell_type": "code",
   "execution_count": null,
   "metadata": {},
   "outputs": [],
   "source": [
    "a = a**2"
   ]
  },
  {
   "cell_type": "code",
   "execution_count": null,
   "metadata": {},
   "outputs": [],
   "source": [
    "a = a/3"
   ]
  },
  {
   "cell_type": "code",
   "execution_count": null,
   "metadata": {},
   "outputs": [],
   "source": [
    "a = a//3"
   ]
  },
  {
   "cell_type": "code",
   "execution_count": null,
   "metadata": {},
   "outputs": [],
   "source": [
    "a = a%3"
   ]
  },
  {
   "cell_type": "markdown",
   "metadata": {},
   "source": [
    "## La fonction __type()__ "
   ]
  },
  {
   "cell_type": "markdown",
   "metadata": {},
   "source": [
    "<div class=\"alert alert-block alert-info\"><b>Info:</b> La fonction <code>type()</code> permet de connaitre le type (entier, boolean, flottant...) d'une variable ou autre. Son utilisation permet parfois de comprendre certaines erreurs ou certains résultats inattendus.</div>"
   ]
  },
  {
   "cell_type": "code",
   "execution_count": null,
   "metadata": {},
   "outputs": [],
   "source": [
    "a = 1"
   ]
  },
  {
   "cell_type": "code",
   "execution_count": null,
   "metadata": {},
   "outputs": [],
   "source": [
    "type(a)"
   ]
  },
  {
   "cell_type": "code",
   "execution_count": null,
   "metadata": {},
   "outputs": [],
   "source": [
    "a = 2.      #notez le . après le 2..."
   ]
  },
  {
   "cell_type": "code",
   "execution_count": null,
   "metadata": {},
   "outputs": [],
   "source": [
    "type(a)"
   ]
  },
  {
   "cell_type": "code",
   "execution_count": null,
   "metadata": {},
   "outputs": [],
   "source": [
    "type(\"a\")"
   ]
  },
  {
   "cell_type": "markdown",
   "metadata": {},
   "source": [
    "<div class=\"alert alert-block alert-warning\"><b>Question:</b> Pourquoi les 3 lignes possédant <code>type(a)</code> précédentes renvoient elles des résultats différents?</div>"
   ]
  },
  {
   "cell_type": "markdown",
   "metadata": {},
   "source": [
    "Réponse: "
   ]
  },
  {
   "cell_type": "markdown",
   "metadata": {},
   "source": [
    "## Utilisation des listes"
   ]
  },
  {
   "cell_type": "markdown",
   "metadata": {},
   "source": [
    "Nous allons beaucoup utiliser les listes lors des séances de TP.  \n",
    "Il est donc impératif que vous soyiez à l'aise avec leur utilisation."
   ]
  },
  {
   "cell_type": "markdown",
   "metadata": {},
   "source": [
    "Création d'une liste:"
   ]
  },
  {
   "cell_type": "code",
   "execution_count": null,
   "metadata": {},
   "outputs": [],
   "source": [
    "liste01 = [1,2,3,4.]"
   ]
  },
  {
   "cell_type": "code",
   "execution_count": null,
   "metadata": {},
   "outputs": [],
   "source": [
    "liste01"
   ]
  },
  {
   "cell_type": "markdown",
   "metadata": {},
   "source": [
    "Il est très facile d'accéder à un élément de la liste. Par exemple, pour afficher (ou utiliser) le premier élément de la liste, il suffit de faire: "
   ]
  },
  {
   "cell_type": "code",
   "execution_count": null,
   "metadata": {},
   "outputs": [],
   "source": [
    "liste01[0]"
   ]
  },
  {
   "cell_type": "markdown",
   "metadata": {},
   "source": [
    "<div class=\"alert alert-block alert-warning\"><b>Question:</b> Affichez le <code>type</code> du dernier élément de la liste01 </div>"
   ]
  },
  {
   "cell_type": "code",
   "execution_count": null,
   "metadata": {},
   "outputs": [],
   "source": []
  },
  {
   "cell_type": "markdown",
   "metadata": {},
   "source": [
    "Il est très facile de modifier un élément d'une liste:"
   ]
  },
  {
   "cell_type": "code",
   "execution_count": null,
   "metadata": {},
   "outputs": [],
   "source": [
    "liste01[0] = 9"
   ]
  },
  {
   "cell_type": "markdown",
   "metadata": {},
   "source": [
    "Réaffichons `liste01` pour voir: "
   ]
  },
  {
   "cell_type": "code",
   "execution_count": null,
   "metadata": {},
   "outputs": [],
   "source": [
    "liste01"
   ]
  },
  {
   "cell_type": "markdown",
   "metadata": {},
   "source": [
    "<div class=\"alert alert-block alert-info\">Si l'on veut rajouter des éléments à la liste, il faut utiliser la fonction  <code>append</code>. Attention, il n'est possible d'ajouter qu'un seul élément à la fois à la liste en utilisant cette fonction.  \n",
    "    \n",
    "Exemple:   \n",
    "<code>liste01.append(17)</code> rajoute l'entier 17 en fin de liste.    \n",
    "<code>liste01.append(17,18)</code> renvoie une erreur.</div>"
   ]
  },
  {
   "cell_type": "markdown",
   "metadata": {},
   "source": [
    "<div class=\"alert alert-block alert-warning\"><b>Question:</b> A l'aide de la fonction <code>len</code> et de la fonction <code>type</code>, vérifiez que <code>liste01.append([17,18,19])</code> ne permet pas non plus de rajouter plusieurs éléments à la <b>liste01</b>.</div>"
   ]
  },
  {
   "cell_type": "code",
   "execution_count": null,
   "metadata": {},
   "outputs": [],
   "source": []
  },
  {
   "cell_type": "markdown",
   "metadata": {},
   "source": [
    "# Le module _NUMPY_"
   ]
  },
  {
   "cell_type": "markdown",
   "metadata": {},
   "source": [
    "<div class=\"alert alert-block alert-info\">En Python, il y a ce que l'on appelle une bibliothèque standard. Cette bibliothèque comporte un ensemble de méthodes (des \"fonctions\") de base, que l'on peut appeler directement. Nous avons d'ailleurs utilisé quelques méthodes de bases précédement:  <ul>\n",
    "    <li><code>len()</code></li>\n",
    "    <li><code>type()</code></li>\n",
    "    <li><code>append()</code></li>\n",
    "    <li><code>print()</code></li>\n",
    "</ul>\n",
    "    \n",
    "Mais à ces modules de base, il est possible de rajouter d'autres modules qui rajouttent d'autres méthodes (\"fonctions\").  \n",
    "Un des modules principaux est le module __Numpy__. Voici la définition de ce module telle que la donne Wikipedia:  \n",
    "\"__NumPy__ est une bibliothèque pour langage de programmation _Python_, destinée à manipuler des matrices ou tableaux multidimensionnels ainsi que des fonctions mathématiques opérant sur ces tableaux.\"  \n",
    "__Lors de toutes les séances de TP nous utiliserons cette bibliothèque!!!__\n",
    "\n",
    "</div>"
   ]
  },
  {
   "cell_type": "markdown",
   "metadata": {},
   "source": [
    "La bibliothèque _Numpy_ étant déjà installée par défaut avec Anaconda, il n'y a plus qu'à l'importer dans notre Notebook:"
   ]
  },
  {
   "cell_type": "code",
   "execution_count": null,
   "metadata": {},
   "outputs": [],
   "source": [
    "import numpy"
   ]
  },
  {
   "cell_type": "markdown",
   "metadata": {},
   "source": [
    "On trouve rarement `import numpy`, on trouvera plus généralement: "
   ]
  },
  {
   "cell_type": "code",
   "execution_count": null,
   "metadata": {},
   "outputs": [],
   "source": [
    "import numpy as np"
   ]
  },
  {
   "cell_type": "markdown",
   "metadata": {},
   "source": [
    "Pourquoi ```import numpy as np```? pour une raison de gain de temps! En effet, devant chaque méthode issue de la bibibliothèque _Numpy_ vous devez rajouter `numpy.` dans le 1er cas ou sinon `np.` dans le second cas. Pour le module _Numpy_ la diférence est minime mais je vous laisse imaginer lorsque nous utiliserons plus tard le module _matplotlib.pyplot_ ..."
   ]
  },
  {
   "cell_type": "markdown",
   "metadata": {},
   "source": [
    "## Numpy `array()`"
   ]
  },
  {
   "cell_type": "markdown",
   "metadata": {},
   "source": [
    "Nous n'utiliserons désormais plus les listes telles que nous les avons vu auparavant. Nous utiliserons maintenant la méthode `array` du module Numpy. (il n'y a que peu de différence dans la manipulation des arrays par rapport à la manipulation des listes). C'est ce que nous allons voir."
   ]
  },
  {
   "cell_type": "code",
   "execution_count": null,
   "metadata": {},
   "outputs": [],
   "source": [
    "array01 = np.array([1,2,3,4.])"
   ]
  },
  {
   "cell_type": "code",
   "execution_count": null,
   "metadata": {},
   "outputs": [],
   "source": [
    "array01"
   ]
  },
  {
   "cell_type": "code",
   "execution_count": null,
   "metadata": {},
   "outputs": [],
   "source": [
    "type(array01)"
   ]
  },
  {
   "cell_type": "code",
   "execution_count": null,
   "metadata": {},
   "outputs": [],
   "source": [
    "array01[0]"
   ]
  },
  {
   "cell_type": "code",
   "execution_count": null,
   "metadata": {},
   "outputs": [],
   "source": [
    "array01[-2:]"
   ]
  },
  {
   "cell_type": "markdown",
   "metadata": {},
   "source": [
    "## Numpy `size`\n",
    "Afin de connaitre le nombre d'élément de votre table, utilisez simplement `np.size`"
   ]
  },
  {
   "cell_type": "code",
   "execution_count": null,
   "metadata": {},
   "outputs": [],
   "source": [
    "a = np.size(array01)\n",
    "print(a)"
   ]
  },
  {
   "cell_type": "markdown",
   "metadata": {},
   "source": [
    "## Numpy `arange` (Attention: 1 seul `r` !!!)"
   ]
  },
  {
   "cell_type": "markdown",
   "metadata": {},
   "source": [
    "Rentrer tous les points d'un tableau est possible mais extrèmement long!\n",
    "La méthode ```arange``` sert à générer des tableaux de points automatiquement.  \n",
    "Avant toute chose, nous allons ici afficher l'aide de la méthode `numpy.arange` (avec la fonction help de la bibliothèque standard). Le recours à la fonction help peut être très pratique, ne l'oubliez pas!!!"
   ]
  },
  {
   "cell_type": "code",
   "execution_count": null,
   "metadata": {},
   "outputs": [],
   "source": [
    "help(np.arange)"
   ]
  },
  {
   "cell_type": "markdown",
   "metadata": {},
   "source": [
    "<div class=\"alert alert-block alert-warning\"><b>Question: </b>En utilisant l'aide de la fonction <code>arange</code>, générer les tableaux suivants: <ul><li>array([0, 1, 2, 3, 4, 5, 6, 7, 8, 9])</li><li>array([0., 1., 2., 3., 4., 5., 6., 7., 8., 9.])</li><li>array([1, 2, 3, 4, 5, 6, 7, 8, 9])</li><li>array([ 3,  6,  9, 12])</li><li>array([0.  , 3.14, 6.28, 9.42]</li><li>array([9, 8, 7, 6, 5, 4, 3, 2, 1, 0])</li><ul/></div>"
   ]
  },
  {
   "cell_type": "markdown",
   "metadata": {},
   "source": [
    "## Numpy `linspace` (Attention: pas de `e`!!!)\n",
    "`linspace` est une méthode qui permet également de générer des tableaux de points mais pas tout à fait de la même manière.\n",
    "\n"
   ]
  },
  {
   "cell_type": "markdown",
   "metadata": {},
   "source": [
    "<div class=\"alert alert-block alert-warning\"><b>Question: </b> Toujours en utilisant l'aide, générer les tableaux suivants:  \n",
    "    \n",
    "- array([ 0.,  1.,  2.,  3.,  4.,  5.,  6.,  7.,  8.,  9., 10.])\n",
    "- array([10.,  9.,  8.,  7.,  6.,  5.,  4.,  3.,  2.])\n",
    "- array([0. , 0.1, 0.2, 0.3, 0.4, 0.5, 0.6, 0.7, 0.8, 0.9, 1. ])\n",
    "- array([0.  , 3.14, 6.28, 9.42])</div>\n"
   ]
  },
  {
   "cell_type": "markdown",
   "metadata": {},
   "source": [
    "<div class=\"alert alert-block alert-warning\"><b>Question: </b> Récapituler la différence majeure entre les méthodes <code>arange</code> et <code>linspace</code> </div>"
   ]
  },
  {
   "cell_type": "markdown",
   "metadata": {},
   "source": [
    "<div class=\"alert alert-block alert-danger\"><b>Question: </b> \n",
    "    \n",
    "On souhaite générer un tableau:\n",
    "- de __10 points__ \n",
    "- avec un __interval de 0.2__ entre chaque point. \n",
    "- La __première valeur vaut 0__.  \n",
    "\n",
    "Générez ce tableau à l'aide uniquement de la fonction __`arange`__ </div>"
   ]
  },
  {
   "cell_type": "markdown",
   "metadata": {},
   "source": [
    "<div class=\"alert alert-block alert-danger\"><b>Question: </b> \n",
    "    \n",
    "On souhaite générer un tableau: \n",
    "- avec un __interval de 0.2__ entre chaque point.\n",
    "- La __première valeur vaut 0.__, \n",
    "- la __dernière vaut 2.__.   \n",
    "\n",
    "Générez ce tableau à l'aide uniquement de la fonction __`linspace`__ </div>"
   ]
  },
  {
   "cell_type": "markdown",
   "metadata": {},
   "source": [
    "# Le module _Matplotlib.pyplot_\n",
    "Nous utiliserons ce module _matplotlib.pyplot_ afin de représenter graphiquement nos valeurs."
   ]
  },
  {
   "cell_type": "markdown",
   "metadata": {},
   "source": [
    "Il est d'usage d'importer le module matplotlib.pyplot de la manière suivante:  "
   ]
  },
  {
   "cell_type": "code",
   "execution_count": null,
   "metadata": {},
   "outputs": [],
   "source": [
    "import matplotlib.pyplot as plt"
   ]
  },
  {
   "cell_type": "markdown",
   "metadata": {},
   "source": [
    "Nous allons générer 2 tableaux. \n",
    "\n",
    "Le premier se nommmera y et le deuxième x   \n"
   ]
  },
  {
   "cell_type": "code",
   "execution_count": null,
   "metadata": {},
   "outputs": [],
   "source": [
    "y = np.array([0,1,2,3,4,3,2,1,0])  \n",
    "x = np.linspace(0,9,10)"
   ]
  },
  {
   "cell_type": "markdown",
   "metadata": {},
   "source": [
    "<div class=\"alert alert-block alert-danger\"><b>Question: </b> \n",
    "\n",
    "Il n'est  pas possible de tracer y =f(x) si les tableaux y et x ne sont pas de même dimension. Corrigez la génération du tableau _x_ </div>"
   ]
  },
  {
   "cell_type": "markdown",
   "metadata": {},
   "source": [
    "<div class=\"alert alert-block alert-danger\"><b>Question: </b> \n",
    "\n",
    "Proposez une façon de toujours générer le bon nombre de point d'abscisse en fonction du nombre de points d'ordonnées. </div>"
   ]
  },
  {
   "cell_type": "markdown",
   "metadata": {},
   "source": [
    "Maintenant traçons à l'aide du module _matplotlib.pyplot_ et de la méthode _plot_"
   ]
  },
  {
   "cell_type": "code",
   "execution_count": null,
   "metadata": {},
   "outputs": [],
   "source": [
    "plt.plot(x,y)"
   ]
  },
  {
   "cell_type": "markdown",
   "metadata": {},
   "source": [
    "<div class=\"alert alert-block alert-danger\"><b>Question: </b>  \n",
    "\n",
    "Regarder l'aide sur plt.plot et essayer de modifier l'apparence de votre graphique.  \n",
    "\n",
    "Vous pouvez également regarder l'aide des méthode _xlabel_ et _ylabel_ de matplotlib.pyplot </div>"
   ]
  },
  {
   "cell_type": "code",
   "execution_count": null,
   "metadata": {},
   "outputs": [],
   "source": [
    "plt.plot(x,y,\"or\")\n",
    "plt.show()"
   ]
  },
  {
   "cell_type": "markdown",
   "metadata": {},
   "source": [
    "Il est tout à fait possible de tracer plusieurs courbes sur le même graphe"
   ]
  },
  {
   "cell_type": "code",
   "execution_count": null,
   "metadata": {},
   "outputs": [],
   "source": [
    "plt.plot(x,y,\"or\")\n",
    "plt.plot(x,-y,\"-xb\")\n",
    "plt.show()"
   ]
  },
  {
   "cell_type": "markdown",
   "metadata": {},
   "source": [
    "...ajouter un titre aux axes"
   ]
  },
  {
   "cell_type": "code",
   "execution_count": null,
   "metadata": {},
   "outputs": [],
   "source": [
    "plt.plot(x,y,\"or\")\n",
    "plt.xlabel(\"axe des abscisses\")\n",
    "plt.ylabel(\"axe des ordonnées\")\n",
    "plt.show()"
   ]
  },
  {
   "cell_type": "markdown",
   "metadata": {},
   "source": [
    "... une légende pour chaque courbe"
   ]
  },
  {
   "cell_type": "code",
   "execution_count": null,
   "metadata": {},
   "outputs": [],
   "source": [
    "plt.plot(x,y,\"or\", label = \"courbe du haut\")\n",
    "plt.plot(x,-y,\"-xb\", label = \"courbe du bas\")\n",
    "plt.legend()\n",
    "plt.show()"
   ]
  },
  {
   "cell_type": "markdown",
   "metadata": {},
   "source": [
    "On peut zoomer sur une partie de la courbe"
   ]
  },
  {
   "cell_type": "code",
   "execution_count": null,
   "metadata": {},
   "outputs": [],
   "source": [
    "plt.plot(x,y,\"or\", label = \"courbe du haut\")\n",
    "plt.plot(x,-y,\"-xb\", label = \"courbe du bas\")\n",
    "plt.legend(loc = 'upper left')\n",
    "plt.xlim(-1,3)\n",
    "plt.ylim(-3,3)\n",
    "plt.show()"
   ]
  },
  {
   "cell_type": "code",
   "execution_count": null,
   "metadata": {},
   "outputs": [],
   "source": [
    "help(plt.legend)"
   ]
  },
  {
   "cell_type": "markdown",
   "metadata": {},
   "source": [
    "<div class=\"alert alert-block alert-danger\"><b>Question: </b>\n",
    "    \n",
    "En couplant l'utilisaton des bibliothèques <code>Numpy</code> et <code>Matplotlib.pyplot</code>, tracez des fonctions usuelles telles que les fonctions racine carrée, puissance de 2, 3, fonction inverse...  \n",
    "\n",
    "<u><b>Il est primordial d'être à l'aise avec ce dernier exercice avant de démarrer les séances de TP. </b></u></div>"
   ]
  },
  {
   "cell_type": "markdown",
   "metadata": {},
   "source": [
    "# Pour aller un peu plus loin.... plus vite"
   ]
  },
  {
   "cell_type": "markdown",
   "metadata": {},
   "source": [
    "<div class=\"alert alert-block alert-info\"> <b>Astuces Jupyter: </b> \n",
    "<UL>    \n",
    "<LI> Dans le menu Kernel, _Restart and Clear Output_ vous permet d'effacer toute les cellules executées  (les _Sorties_) afin de repartir sur de bonnes bases </LI>\n",
    "<LI>De manière similaire, dans le menu Kernel, _Restart and run all_ vous permet d'effacer toutes les sorties et de rééxecuter chaque cellule jusqu'à la fin du Notebook (ou jusqu'à la première erreur d'execution.</LI>\n",
    "    </UL>\n",
    "\n",
    "\n",
    "<B>Raccourcis dans Jupyter:</B>  \n",
    "<UL>\n",
    "Dans le menu Help, _Keyboard Shortcuts_, vous rappelle tous les raccourcis soit en mode __édition__, soit en mode Edition (Cliquer sur une cellule puis touche `ENTER`, ou double clique sur une cellule) soit en mode __commande__ (Appuyez sur la touche `ESC`, vous serez en mode Commande). Notez bien les raccourcis en mode __commande__ très pratique: \n",
    "<LI> touche `A` permettant de rajouter une cellule au dessus de la cellule sur laquelle vous vous trouvez </LI>\n",
    "<LI> touche `B`, ajout de cellule en dessous de la cellule où vous vous trouvez </LI>\n",
    "<LI> `X` couper la cellule </LI>\n",
    "<LI> `V` coller la cellule après la cellule sur laquelle vous vous trouvez </LI>\n",
    "<LI> `M`transformer la cellule en cellule Markdown </LI>\n",
    "<LI> `Maj+ENTER` exécute la cellule sur laquelle vous vous trouvez </LI>\n",
    "<LI> `Àlt+ENTER` exécute la cellule sur laquelle vous vous trouvez et ajoute une cellule après </LI>\n",
    "<LI> `O` masque ou affiche le résultat de la cellule executée </LI>\n",
    "<LI> ... </LI>\n",
    "    </UL>\n",
    "</div>\n"
   ]
  }
 ],
 "metadata": {
  "kernelspec": {
   "display_name": "Python 3 (ipykernel)",
   "language": "python",
   "name": "python3"
  },
  "language_info": {
   "codemirror_mode": {
    "name": "ipython",
    "version": 3
   },
   "file_extension": ".py",
   "mimetype": "text/x-python",
   "name": "python",
   "nbconvert_exporter": "python",
   "pygments_lexer": "ipython3",
   "version": "3.9.7"
  }
 },
 "nbformat": 4,
 "nbformat_minor": 2
}
