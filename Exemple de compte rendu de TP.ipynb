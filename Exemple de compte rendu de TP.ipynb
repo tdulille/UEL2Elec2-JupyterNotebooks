{
 "cells": [
  {
   "cell_type": "markdown",
   "metadata": {},
   "source": [
    "# Ceci est le titre Principal de mon TP. \n",
    "J'utilise le langage Markdown qui est un langage très simple qui permet de générer facilement des document de qualité. Notez bien l'unique `#` au tout début de la ligne. \n",
    "## Ceci est le sous titre\n",
    "### Ceci est le sous-sous titre\n",
    "Ce langage vous permet d'organiser votre compte rendu tout en restant dans votre interface de programmation.  \n",
    "1. c'est pratique  \n",
    "2. c'est un langage informatique qui se développe énormément et que l'on retrouve très fréquement\n",
    "Pour voir d'autres commandes Markdown cliquez sur ce lien: [lien](https://docs.github.com/en/github/writing-on-github/basic-writing-and-formatting-syntax)\n",
    "\n",
    "Executer ce code et regarder la sortie, vous pouvez revenir au code en double cliquant sur ce paragraphe."
   ]
  },
  {
   "cell_type": "markdown",
   "metadata": {},
   "source": [
    "La ligne ci dessous est une ligne de code, vous pouvez y entrer du code Python. Essayons de faire une addition et executons la ligne"
   ]
  },
  {
   "cell_type": "code",
   "execution_count": null,
   "metadata": {},
   "outputs": [],
   "source": [
    "1+999999"
   ]
  },
  {
   "cell_type": "markdown",
   "metadata": {},
   "source": [
    "et voilà, à vous d'alterner entre code Python et code Markdown pour réaliser un compte rendu de qualité qui sera évalué également sur ce critère."
   ]
  },
  {
   "cell_type": "code",
   "execution_count": null,
   "metadata": {},
   "outputs": [],
   "source": []
  }
 ],
 "metadata": {
  "kernelspec": {
   "display_name": "Python 3",
   "language": "python",
   "name": "python3"
  },
  "language_info": {
   "codemirror_mode": {
    "name": "ipython",
    "version": 3
   },
   "file_extension": ".py",
   "mimetype": "text/x-python",
   "name": "python",
   "nbconvert_exporter": "python",
   "pygments_lexer": "ipython3",
   "version": "3.7.3"
  }
 },
 "nbformat": 4,
 "nbformat_minor": 2
}
