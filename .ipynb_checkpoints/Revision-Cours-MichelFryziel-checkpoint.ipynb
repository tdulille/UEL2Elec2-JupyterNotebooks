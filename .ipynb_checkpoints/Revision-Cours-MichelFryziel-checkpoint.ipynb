{
 "cells": [
  {
   "cell_type": "markdown",
   "metadata": {},
   "source": [
    "# \"Cheat sheet\" Python `Thomas Dargent, Université de Lille`\n",
    "# basé sur le cours de L1 de `Michel Fryziel, Université de Lille`"
   ]
  },
  {
   "cell_type": "markdown",
   "metadata": {},
   "source": [
    "# Quelques fonctions de base\n",
    "## Retourner le type d'une variable\n"
   ]
  },
  {
   "cell_type": "code",
   "execution_count": null,
   "metadata": {},
   "outputs": [],
   "source": [
    "type(100), type('texte'), type(True)"
   ]
  },
  {
   "cell_type": "markdown",
   "metadata": {},
   "source": [
    "## Convertir en chaîne de caractère (String)"
   ]
  },
  {
   "cell_type": "code",
   "execution_count": null,
   "metadata": {},
   "outputs": [],
   "source": [
    "str(3.14159)"
   ]
  },
  {
   "cell_type": "markdown",
   "metadata": {},
   "source": [
    "## Convertir en entier"
   ]
  },
  {
   "cell_type": "code",
   "execution_count": null,
   "metadata": {},
   "outputs": [],
   "source": [
    "int(3.14)"
   ]
  },
  {
   "cell_type": "markdown",
   "metadata": {},
   "source": [
    "## Convertir en float"
   ]
  },
  {
   "cell_type": "code",
   "execution_count": null,
   "metadata": {},
   "outputs": [],
   "source": [
    "float(3)"
   ]
  },
  {
   "cell_type": "markdown",
   "metadata": {},
   "source": [
    "# Instruction d'affichage de la valeur d'une expression à l'écran.\n",
    "# La fonction `print()`\n",
    "Remarque: l'instruction print() ne retourne pas de valeur mais effectue uniquement un affichage"
   ]
  },
  {
   "cell_type": "code",
   "execution_count": null,
   "metadata": {},
   "outputs": [],
   "source": [
    "print(type(\"text\")), print(str(3.14)), print(True and False), print(True or False), type(print(\"texte2\"))"
   ]
  },
  {
   "cell_type": "markdown",
   "metadata": {},
   "source": [
    "## Les options de print: 'sep=', rajoute un séparateur entre les valeurs, 'end=', rajout d'un caractère ou une châine de fin."
   ]
  },
  {
   "cell_type": "code",
   "execution_count": null,
   "metadata": {},
   "outputs": [],
   "source": [
    "print(\"\",1,2,\"3 zéro\", sep=' et ', end='!')"
   ]
  },
  {
   "cell_type": "markdown",
   "metadata": {},
   "source": [
    "## Affichage formaté. \n",
    "Il est pratique de pouvoire écrire les valeurs des expressions au sein d'une chaîne de caractère.\n",
    "- %d->valeur entière  \n",
    "- %f->flloat  \n",
    "- %s->String"
   ]
  },
  {
   "cell_type": "code",
   "execution_count": null,
   "metadata": {},
   "outputs": [],
   "source": [
    "print(\"Nous sommes le %s %d %s et il fait %f degrés. Et si on simplifie, il fait %.2f degrés\" %(\"Lundi\", 29, \"Juin\", 28.6, 28.6))"
   ]
  },
  {
   "cell_type": "markdown",
   "metadata": {},
   "source": [
    "# Déclaration de variables. \n",
    "## Rappel:\n",
    "- pas de chiffre en premier caractère\n",
    "- seulement des chiffres, des lettres et le caractère _ sont autorisés. Pas de +,- $£µ%...\n",
    "- les varaiables sont sensibles à la casse. Ainsi, VARIABLE1, VarIAble1 et varaiable1 sont 3 variables différentes"
   ]
  },
  {
   "cell_type": "markdown",
   "metadata": {},
   "source": [
    "## Affectation d'une valeur à une variable:"
   ]
  },
  {
   "cell_type": "code",
   "execution_count": null,
   "metadata": {},
   "outputs": [],
   "source": [
    "a=1"
   ]
  },
  {
   "cell_type": "code",
   "execution_count": null,
   "metadata": {},
   "outputs": [],
   "source": [
    "b, c, d, e = 2, 3, True, \"Texte\""
   ]
  },
  {
   "cell_type": "code",
   "execution_count": null,
   "metadata": {},
   "outputs": [],
   "source": []
  },
  {
   "cell_type": "code",
   "execution_count": null,
   "metadata": {},
   "outputs": [],
   "source": [
    "print(a,b,c,d,e,sep=\"\\_O_/\")"
   ]
  },
  {
   "cell_type": "markdown",
   "metadata": {},
   "source": [
    "# Les fonctions  \n",
    "Nous avons vu qu'il existe des fonctions dans la bibliothèques standard de Python (`str(), type(), print()` etc. \n",
    "\n",
    "Il n'est pas nécessaire de réinventer la roue en informatique. De nombreux programmeurs mettent à disposition des bilbiothèques comportant de nombreuses fonctions très pratique et très puissante.  \n",
    "Lorsque l'on a trouvé une fonction qui nous intéresse, il est nécessaire d'importer la bibliothèque dans laquelle celle-ci est définis(`ìmport nom_de_la_bibliotheque`). Si en appelant cette bibliothèque vous obtenez une erreur, il se peut que la bibliothèque ne soit pas installer sur votre ordinateur.\n"
   ]
  },
  {
   "cell_type": "markdown",
   "metadata": {},
   "source": [
    "## Exemple d'appel à une fonction d'une bibliothèque.\n",
    "Les fonction `cos()` et `pi()` de la bibliothèque math (qui est une bibliothèque standard et donc disponible avec Python sans installation)"
   ]
  },
  {
   "cell_type": "code",
   "execution_count": null,
   "metadata": {},
   "outputs": [],
   "source": [
    "from math import cos, pi"
   ]
  },
  {
   "cell_type": "code",
   "execution_count": null,
   "metadata": {},
   "outputs": [],
   "source": [
    "print(pi)"
   ]
  },
  {
   "cell_type": "code",
   "execution_count": null,
   "metadata": {},
   "outputs": [],
   "source": [
    "print(cos(2*pi))"
   ]
  },
  {
   "cell_type": "code",
   "execution_count": null,
   "metadata": {},
   "outputs": [],
   "source": [
    "print(sin(2*pi))"
   ]
  },
  {
   "cell_type": "markdown",
   "metadata": {},
   "source": [
    "Notez l'erreur typique que vous obtenez lorsqu'une fonction n'a pas été importée. La fonction `sin()` n'est pas défini. C'est parceque nous n'avons importé que les fonctions `cos()` et `pi()`. Si vous utilisez plusieurs fonctions de la bibliothèque `math`, vous pouvez importer l'ensemble de la bibliothèque mais celà consommera d'avantage de mémoire."
   ]
  },
  {
   "cell_type": "code",
   "execution_count": null,
   "metadata": {},
   "outputs": [],
   "source": [
    "from math import sin"
   ]
  },
  {
   "cell_type": "code",
   "execution_count": null,
   "metadata": {},
   "outputs": [],
   "source": [
    "print(int(sin(2*pi)))"
   ]
  },
  {
   "cell_type": "markdown",
   "metadata": {},
   "source": [
    "Il est possible d'appeler l'ensemble des fonctions d'une bibliothèque. Dans ce cas, il faut utiliser `from math ìmport *`. Mais celà augmente les ressources nécessaires en terme de mémoire et ne doit être utilisée que si vraiment l'on utilise beaucoup de fonction de cette librairie. "
   ]
  },
  {
   "cell_type": "markdown",
   "metadata": {},
   "source": [
    "## Définition d'une fonction\n",
    "Il est également possible de définir vous même vos fonctions, ce qui évite de multiplier les copier-coller de code."
   ]
  },
  {
   "cell_type": "markdown",
   "metadata": {},
   "source": [
    "### Définition de la fonction:"
   ]
  },
  {
   "cell_type": "code",
   "execution_count": null,
   "metadata": {},
   "outputs": [],
   "source": [
    "def multiplierpar2(peutimporte):\n",
    "    valeurx2= 2*peutimporte\n",
    "    return (valeurx2)"
   ]
  },
  {
   "cell_type": "markdown",
   "metadata": {},
   "source": [
    "### Utilisation de la fonction:"
   ]
  },
  {
   "cell_type": "code",
   "execution_count": null,
   "metadata": {},
   "outputs": [],
   "source": [
    "multiplierpar2(1234)"
   ]
  },
  {
   "cell_type": "markdown",
   "metadata": {},
   "source": [
    "Rappel, en Python, le typage d'une variable est dynamique. Mais mieux qu'un long discours:  "
   ]
  },
  {
   "cell_type": "code",
   "execution_count": null,
   "metadata": {},
   "outputs": [],
   "source": [
    "multiplierpar2('-Vive Python-')"
   ]
  },
  {
   "cell_type": "markdown",
   "metadata": {},
   "source": [
    "# La description d'une fonction: la fonction `help()`\n",
    "En python, il est extrèmement pratique de pouvoir accéder à la documentation d'une fonction. Aussi, les prgrammeurs rajoutent à la définition de leur fonction une description. Pour plus d'infos à ce sujet->docstring, CU, doctests dans un moteur de recherche"
   ]
  },
  {
   "cell_type": "code",
   "execution_count": null,
   "metadata": {},
   "outputs": [],
   "source": [
    "help(print)"
   ]
  },
  {
   "cell_type": "markdown",
   "metadata": {},
   "source": [
    "et l'on voit bien ci-dessus l'intérêt de pouvoir accéder aux différentes information en cas d'oublie, par exemple lorsque l'on ne ce souvient plus comment définir le séparateur dans une chaîne de caractère.  \n",
    "\n",
    "__2 conseils:__ \n",
    "- usez et abusez de la fonction `help()`!\n",
    "- documenter vos fonctions!"
   ]
  },
  {
   "cell_type": "markdown",
   "metadata": {},
   "source": [
    "# Structures conditionnelles\n"
   ]
  },
  {
   "cell_type": "code",
   "execution_count": null,
   "metadata": {},
   "outputs": [],
   "source": [
    "a=7"
   ]
  },
  {
   "cell_type": "code",
   "execution_count": null,
   "metadata": {},
   "outputs": [],
   "source": [
    "print(a in (8,9,10,11,12))"
   ]
  },
  {
   "cell_type": "code",
   "execution_count": null,
   "metadata": {},
   "outputs": [],
   "source": [
    "print(a in (1,2,3,4,5,6))"
   ]
  },
  {
   "cell_type": "code",
   "execution_count": null,
   "metadata": {},
   "outputs": [],
   "source": [
    "if a==5:\n",
    "    a+=1\n",
    "else:\n",
    "    a+=-1"
   ]
  },
  {
   "cell_type": "code",
   "execution_count": null,
   "metadata": {},
   "outputs": [],
   "source": [
    "print(a)"
   ]
  },
  {
   "cell_type": "code",
   "execution_count": null,
   "metadata": {},
   "outputs": [],
   "source": [
    "if not(a==5):\n",
    "    a+=a\n",
    "else:\n",
    "    a-=a"
   ]
  },
  {
   "cell_type": "code",
   "execution_count": null,
   "metadata": {},
   "outputs": [],
   "source": [
    "print(a)"
   ]
  },
  {
   "cell_type": "code",
   "execution_count": null,
   "metadata": {},
   "outputs": [],
   "source": [
    "if a==1:\n",
    "    a=5\n",
    "elif a==0:\n",
    "    a=12\n",
    "else:\n",
    "    print(\"Fin\")\n",
    "    "
   ]
  },
  {
   "cell_type": "markdown",
   "metadata": {},
   "source": [
    "# Manipulation des chaînes de caractères"
   ]
  },
  {
   "cell_type": "code",
   "execution_count": null,
   "metadata": {},
   "outputs": [],
   "source": [
    "len(\"cette focntion compte le nombre de caractère d'une chaîne de caractère\")"
   ]
  },
  {
   "cell_type": "code",
   "execution_count": null,
   "metadata": {},
   "outputs": [],
   "source": [
    "print(\"i\" in \"test presence d'un i\")"
   ]
  },
  {
   "cell_type": "code",
   "execution_count": null,
   "metadata": {},
   "outputs": [],
   "source": [
    "print(\"o\" in \"test presence d'un i\")"
   ]
  },
  {
   "cell_type": "markdown",
   "metadata": {},
   "source": [
    "## Pacourir une chaine de caractère avec une boucle for"
   ]
  },
  {
   "cell_type": "code",
   "execution_count": null,
   "metadata": {},
   "outputs": [],
   "source": [
    "for pasgrave in \"peut importe la chaine\":\n",
    "    print(pasgrave)"
   ]
  },
  {
   "cell_type": "markdown",
   "metadata": {},
   "source": [
    "Si on veut compter le nombre de \"n\" par exemple"
   ]
  },
  {
   "cell_type": "code",
   "execution_count": null,
   "metadata": {},
   "outputs": [],
   "source": [
    "a=0\n",
    "for pasgrave in \"combien de n dans cette magnifique chaîne?\":\n",
    "    if pasgrave == \"n\":\n",
    "        a=a+1\n",
    "print(\"Il y a %d n dans cette chaîne\" %(a))"
   ]
  },
  {
   "cell_type": "code",
   "execution_count": null,
   "metadata": {},
   "outputs": [],
   "source": [
    "def remplacer_espace(chaine):\n",
    "    temp = \"\"\n",
    "    for caractere in chaine:\n",
    "        if caractere == \" \":\n",
    "            caractere = \"$$$\"\n",
    "        temp = temp + caractere\n",
    "    return temp"
   ]
  },
  {
   "cell_type": "code",
   "execution_count": null,
   "metadata": {},
   "outputs": [],
   "source": [
    "print(remplacer_espace(\"Moi j'aime pas du tout les espaces\"))"
   ]
  },
  {
   "cell_type": "code",
   "execution_count": null,
   "metadata": {},
   "outputs": [],
   "source": []
  }
 ],
 "metadata": {
  "kernelspec": {
   "display_name": "Python 3",
   "language": "python",
   "name": "python3"
  },
  "language_info": {
   "codemirror_mode": {
    "name": "ipython",
    "version": 3
   },
   "file_extension": ".py",
   "mimetype": "text/x-python",
   "name": "python",
   "nbconvert_exporter": "python",
   "pygments_lexer": "ipython3",
   "version": "3.7.3"
  }
 },
 "nbformat": 4,
 "nbformat_minor": 2
}
